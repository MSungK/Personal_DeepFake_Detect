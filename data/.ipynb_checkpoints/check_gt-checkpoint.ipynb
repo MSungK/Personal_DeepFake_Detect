{
 "cells": [
  {
   "cell_type": "code",
   "execution_count": 5,
   "metadata": {
    "ExecuteTime": {
     "end_time": "2024-05-02T14:27:51.078238Z",
     "start_time": "2024-05-02T14:27:51.068469Z"
    }
   },
   "outputs": [
    {
     "ename": "TabError",
     "evalue": "inconsistent use of tabs and spaces in indentation (92701198.py, line 40)",
     "output_type": "error",
     "traceback": [
      "\u001b[0;36m  Cell \u001b[0;32mIn[5], line 40\u001b[0;36m\u001b[0m\n\u001b[0;31m    for bbx in bboxs:\u001b[0m\n\u001b[0m                     ^\u001b[0m\n\u001b[0;31mTabError\u001b[0m\u001b[0;31m:\u001b[0m inconsistent use of tabs and spaces in indentation\n"
     ]
    }
   ],
   "source": [
    "import os\n",
    "import numpy as np\n",
    "import matplotlib.pyplot as plt\n",
    "from glob import glob as g\n",
    "import cv2\n",
    "from tqdm import tqdm\n",
    "from shutil import copy, move\n",
    "import os.path as osp\n",
    "import matplotlib.pyplot as plt\n",
    "\n",
    "if __name__ == '__main__':\n",
    "\t# Val Dataset\n",
    "\tlabel_text_name = 'wider_face/wider_face_split/wider_face_train_bbx_gt.txt'\n",
    "\timgs_address = 'wider_face/WIDER_train/images'\n",
    "\n",
    "\tos.makedirs(new_imgs_dir,exist_ok = True)\n",
    "\tos.makedirs(new_lbls_dir,exist_ok = True)\n",
    "\tannots = open(label_text_name) \n",
    "\tlines = annots.readlines()\n",
    "\tnames =   [x for x in lines if 'jpg' in x]\n",
    "\tindices = [lines.index(x) for x in names]\n",
    "\n",
    "\n",
    "\tfor n in tqdm(range(len(names[:]))):\n",
    "\t\ti = indices[n]\n",
    "\t\tname = lines[i].rstrip()\n",
    "\t\told_img_path = os.path.join(imgs_address , name)\n",
    "\t\tname = name.split('/')[-1]\n",
    "\t\tlabel_path = os.path.join(new_lbls_dir , name.split('.')[0] + '.txt')\n",
    "\t\timg_path = os.path.join(new_imgs_dir , name)\n",
    "\t\t\n",
    "\t\tnum_objs = int(lines[i+1].rstrip())\t\t\n",
    "\t\tbboxs = lines[i+2 : i+2+num_objs]\n",
    "\t\tbboxs = list(map(lambda x:x.rstrip() , bboxs))\n",
    "\t\tbboxs = list(map(lambda x:x.split()[:4], bboxs))\n",
    "\t\tprint(bboxs)\n",
    "\t\timg = cv2.imread(old_img_path)\n",
    "\t\timg_h,img_w,_ = img.shape\n",
    "\t\timg_h,img_w,_ = img.shape\n",
    "\t\tfor bbx in bboxs:\n",
    "\t\t\tx1 = int(bbx[0])\n",
    "\t\t\ty1 = int(bbx[1])\n",
    "\t\t\tw = int(bbx[2])\n",
    "\t\t\th = int(bbx[3])\n",
    "\t\t#     #yolo:\n",
    "# \t\t\tx = (x1 + w//2) / img_w\n",
    "# \t\t\ty = (y1 + h//2) / img_h\n",
    "# \t\t\tw = w / img_w\n",
    "# \t\t\th = h / img_h\n",
    "\t\t\timg = cv2.rectangle((x1,y1), (x1+w, y1+h), (255,0,0), 4)\n",
    "\t\tplt.imshow(img)\n",
    "\t\tbreak"
   ]
  },
  {
   "cell_type": "code",
   "execution_count": null,
   "metadata": {},
   "outputs": [],
   "source": []
  }
 ],
 "metadata": {
  "kernelspec": {
   "display_name": "deepfake",
   "language": "python",
   "name": "deepfake"
  },
  "language_info": {
   "codemirror_mode": {
    "name": "ipython",
    "version": 3
   },
   "file_extension": ".py",
   "mimetype": "text/x-python",
   "name": "python",
   "nbconvert_exporter": "python",
   "pygments_lexer": "ipython3",
   "version": "3.8.19"
  },
  "toc": {
   "base_numbering": 1,
   "nav_menu": {},
   "number_sections": false,
   "sideBar": true,
   "skip_h1_title": false,
   "title_cell": "Table of Contents",
   "title_sidebar": "Contents",
   "toc_cell": false,
   "toc_position": {},
   "toc_section_display": true,
   "toc_window_display": false
  }
 },
 "nbformat": 4,
 "nbformat_minor": 2
}
